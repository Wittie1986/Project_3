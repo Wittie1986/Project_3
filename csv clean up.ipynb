{
 "cells": [
  {
   "cell_type": "code",
   "execution_count": 1,
   "metadata": {},
   "outputs": [],
   "source": [
    "# Import Dependencies\n",
    "import csv\n",
    "import pandas as pd\n",
    "import os\n",
    "\n",
    "# Import CSV's\n",
    "\n",
    "GS_raw = pd.read_csv('resources/EOD-GS.csv')\n",
    "JPM_raw = pd.read_csv('resources/EOD-JPM.csv')\n",
    "V_raw = pd.read_csv('resources/EOD-V.csv')"
   ]
  },
  {
   "cell_type": "code",
   "execution_count": 2,
   "metadata": {},
   "outputs": [],
   "source": [
    "# Test to check that dataframes were added properly\n",
    "\n",
    "#GS_raw.head()\n",
    "#JPM_raw.head()\n",
    "#V_raw.head()"
   ]
  },
  {
   "cell_type": "code",
   "execution_count": 3,
   "metadata": {},
   "outputs": [],
   "source": [
    "# Extract only the dates between 2017-10-01 and 2017-12-31 and 2016-10-01 and 2016-12-31\n",
    "\n",
    "start_date_2017 = '2017-10-01'\n",
    "end_date_2017 = '2017-12-31'\n",
    "\n",
    "GS_raw['Date'] = pd.to_datetime(GS_raw['Date'])\n",
    "JPM_raw['Date'] = pd.to_datetime(JPM_raw['Date'])\n",
    "V_raw['Date'] = pd.to_datetime(V_raw['Date'])\n",
    "\n",
    "\n",
    "GS_mask_2017 = (GS_raw['Date'] >= start_date_2017) & (GS_raw['Date'] <= end_date_2017)\n",
    "JPM_mask_2017 = (JPM_raw['Date'] >= start_date_2017) & (JPM_raw['Date'] <= end_date_2017)\n",
    "V_mask_2017 = (V_raw['Date'] >= start_date_2017) & (V_raw['Date'] <= end_date_2017)\n",
    "\n",
    "GS_q4_2017 = GS_raw.loc[GS_mask_2017]\n",
    "#GS_q4_2017 = GS_q4_2017.set_index(['Date'])\n",
    "\n",
    "JPM_q4_2017 = JPM_raw.loc[JPM_mask_2017]\n",
    "#JPM_q4_2017 = JPM_raw.set_index(['Date'])\n",
    "\n",
    "V_q4_2017 = V_raw.loc[JPM_mask_2017]\n",
    "#V_q4_2017 = V_raw.set_index(['Date'])\n",
    "\n",
    "start_date_2016 = '2016-10-01'\n",
    "end_date_2016 = '2016-12-31'\n",
    "\n",
    "GS_raw['Date'] = pd.to_datetime(GS_raw['Date'])\n",
    "JPM_raw['Date'] = pd.to_datetime(JPM_raw['Date'])\n",
    "V_raw['Date'] = pd.to_datetime(V_raw['Date'])\n",
    "\n",
    "\n",
    "GS_mask_2016 = (GS_raw['Date'] >= start_date_2016) & (GS_raw['Date'] <= end_date_2016)\n",
    "JPM_mask_2016 = (JPM_raw['Date'] >= start_date_2016) & (JPM_raw['Date'] <= end_date_2016)\n",
    "V_mask_2016 = (V_raw['Date'] >= start_date_2016) & (V_raw['Date'] <= end_date_2016)\n",
    "\n",
    "GS_q4_2016 = GS_raw.loc[GS_mask_2016]\n",
    "#GS_q4_2016 = GS_q4_2017.set_index(['Date'])\n",
    "\n",
    "JPM_q4_2016 = JPM_raw.loc[JPM_mask_2016]\n",
    "#JPM_q4_2016 = JPM_raw.set_index(['Date'])\n",
    "\n",
    "V_q4_2016 = V_raw.loc[JPM_mask_2016]\n",
    "#V_q4_2016 = V_raw.set_index(['Date'])\n"
   ]
  },
  {
   "cell_type": "code",
   "execution_count": 4,
   "metadata": {},
   "outputs": [],
   "source": [
    "# Extract only the dates between 2018-10-01 to 2018-12-31\n",
    "\n",
    "start_date_2018 = '2018-10-01'\n",
    "end_date_2018 = '2018-12-31'\n",
    "\n",
    "GS_mask_2018 = (GS_raw['Date'] >= start_date_2018) & (GS_raw['Date'] <= end_date_2018)\n",
    "JPM_mask_2018 = (JPM_raw['Date'] >= start_date_2018) & (JPM_raw['Date'] <= end_date_2018)\n",
    "V_mask_2018 = (V_raw['Date'] >= start_date_2018) & (V_raw['Date'] <= end_date_2018)\n",
    "\n",
    "GS_q4_2018 = GS_raw.loc[GS_mask_2018]\n",
    "#GS_q4_2018 = GS_q4_2017.set_index(['Date'])\n",
    "\n",
    "JPM_q4_2018 = JPM_raw.loc[JPM_mask_2018]\n",
    "#JPM_q4_2018 = JPM_raw.set_index(['Date'])\n",
    "\n",
    "V_q4_2018 = V_raw.loc[JPM_mask_2018]\n",
    "#V_q4_2018 = V_raw.set_index(['Date'])\n"
   ]
  },
  {
   "cell_type": "code",
   "execution_count": 5,
   "metadata": {},
   "outputs": [],
   "source": [
    "# Drop unwanted columns\n",
    "\n",
    "GS_q4_2017 = GS_q4_2017.drop(columns=['Adj_Open', 'Adj_High', 'Adj_Low', 'Adj_Close', 'Adj_Volume', 'Split'])\n",
    "JPM_q4_2017 = JPM_q4_2017.drop(columns=['Adj_Open', 'Adj_High', 'Adj_Low', 'Adj_Close', 'Adj_Volume', 'Split'])\n",
    "V_q4_2017 = V_q4_2017.drop(columns=['Adj_Open', 'Adj_High', 'Adj_Low', 'Adj_Close', 'Adj_Volume', 'Split'])\n",
    "\n",
    "GS_q4_2016 = GS_q4_2016.drop(columns=['Adj_Open', 'Adj_High', 'Adj_Low', 'Adj_Close', 'Adj_Volume', 'Split'])\n",
    "JPM_q4_2016 = JPM_q4_2016.drop(columns=['Adj_Open', 'Adj_High', 'Adj_Low', 'Adj_Close', 'Adj_Volume', 'Split'])\n",
    "V_q4_2016 = V_q4_2016.drop(columns=['Adj_Open', 'Adj_High', 'Adj_Low', 'Adj_Close', 'Adj_Volume', 'Split'])\n",
    "\n",
    "GS_q4_2018 = GS_q4_2018.drop(columns=['Adj_Open', 'Adj_High', 'Adj_Low', 'Adj_Close', 'Adj_Volume', 'Split'])\n",
    "JPM_q4_2018 = JPM_q4_2018.drop(columns=['Adj_Open', 'Adj_High', 'Adj_Low', 'Adj_Close', 'Adj_Volume', 'Split'])\n",
    "V_q4_2018 = V_q4_2018.drop(columns=['Adj_Open', 'Adj_High', 'Adj_Low', 'Adj_Close', 'Adj_Volume', 'Split'])"
   ]
  },
  {
   "cell_type": "code",
   "execution_count": 6,
   "metadata": {},
   "outputs": [],
   "source": [
    "# Sort columns chronologically, reset index\n",
    "\n",
    "GS_q4_2017 = GS_q4_2017.sort_values(by='Date', ascending=True)\n",
    "JPM_q4_2017 = JPM_q4_2017.sort_values(by='Date', ascending=True)\n",
    "V_q4_2017 = V_q4_2017.sort_values(by='Date', ascending=True)\n",
    "\n",
    "GS_q4_2016 = GS_q4_2016.sort_values(by='Date', ascending=True)\n",
    "JPM_q4_2016 = JPM_q4_2016.sort_values(by='Date', ascending=True)\n",
    "V_q4_2016 = V_q4_2016.sort_values(by='Date', ascending=True)\n",
    "\n",
    "GS_q4_2018 = GS_q4_2018.sort_values(by='Date', ascending=True)\n",
    "JPM_q4_2018 = JPM_q4_2018.sort_values(by='Date', ascending=True)\n",
    "V_q4_2018 = V_q4_2018.sort_values(by='Date', ascending=True)\n",
    "\n",
    "GS_q4_2017 = GS_q4_2017.reset_index(drop=True)\n",
    "JPM_q4_2017 = JPM_q4_2017.reset_index(drop=True)\n",
    "V_q4_2017 = V_q4_2017.reset_index(drop=True)\n",
    "\n",
    "GS_q4_2016 = GS_q4_2016.reset_index(drop=True)\n",
    "JPM_q4_2016 = JPM_q4_2016.reset_index(drop=True)\n",
    "V_q4_2016 = V_q4_2016.reset_index(drop=True)\n",
    "\n",
    "GS_q4_2018 = GS_q4_2018.reset_index(drop=True)\n",
    "JPM_q4_2018 = JPM_q4_2018.reset_index(drop=True)\n",
    "V_q4_2018 = V_q4_2018.reset_index(drop=True)\n"
   ]
  },
  {
   "cell_type": "code",
   "execution_count": 7,
   "metadata": {},
   "outputs": [],
   "source": [
    "# Check dataframes\n",
    "\n",
    "#GS_q4_2017.head()\n",
    "#JPM_q4_2017.head()\n",
    "#V_q4_2017.head()\n",
    "#GS_q4_2016.head()\n",
    "#JPM_q4_2016.head()\n",
    "#V_q4_2016.head()\n",
    "#GS_q4_2018.head()\n",
    "#JPM_q4_2018.head()\n",
    "#V_q4_2018.head()"
   ]
  },
  {
   "cell_type": "code",
   "execution_count": 8,
   "metadata": {},
   "outputs": [],
   "source": [
    "# Export to csv\n",
    "\n",
    "GS_q4_2017.to_csv('resources/GS_q4_2017.csv')\n",
    "JPM_q4_2017.to_csv('resources/JPM_q4_2017.csv')\n",
    "V_q4_2017.to_csv('resources/V_q4_2017.csv')\n",
    "GS_q4_2016.to_csv('resources/GS_q4_2016.csv')\n",
    "JPM_q4_2016.to_csv('resources/JPM_q4_2016.csv')\n",
    "V_q4_2016.to_csv('resources/V_q4_2016.csv')\n",
    "GS_q4_2018.to_csv('resources/GS_q4_2018.csv')\n",
    "JPM_q4_2018.to_csv('resources/JPM_q4_2018.csv')\n",
    "V_q4_2018.to_csv('resources/V_q4_2018.csv')"
   ]
  },
  {
   "cell_type": "code",
   "execution_count": 9,
   "metadata": {},
   "outputs": [],
   "source": [
    "# This paragraph reserved for the creation of additional dataframes"
   ]
  }
 ],
 "metadata": {
  "kernelspec": {
   "display_name": "Python 3",
   "language": "python",
   "name": "python3"
  },
  "language_info": {
   "codemirror_mode": {
    "name": "ipython",
    "version": 3
   },
   "file_extension": ".py",
   "mimetype": "text/x-python",
   "name": "python",
   "nbconvert_exporter": "python",
   "pygments_lexer": "ipython3",
   "version": "3.7.0"
  }
 },
 "nbformat": 4,
 "nbformat_minor": 2
}
