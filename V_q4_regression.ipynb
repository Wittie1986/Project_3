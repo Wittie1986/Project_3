{
 "cells": [
  {
   "cell_type": "code",
   "execution_count": 1,
   "metadata": {},
   "outputs": [],
   "source": [
    "# Import Dependencies\n",
    "\n",
    "import csv\n",
    "import pandas as pd\n",
    "import numpy as np\n",
    "import matplotlib.pyplot as plt\n",
    "from sklearn.linear_model import LinearRegression\n",
    "from sklearn.datasets import make_regression"
   ]
  },
  {
   "cell_type": "code",
   "execution_count": 2,
   "metadata": {},
   "outputs": [],
   "source": [
    "# Import and read csv's\n",
    "\n",
    "V_2016 = pd.read_csv('resources/V_q4_2016.csv')\n",
    "V_2017 = pd.read_csv('resources/V_q4_2017.csv')\n",
    "V_2018 = pd.read_csv('resources/V_q4_2018.csv')"
   ]
  },
  {
   "cell_type": "code",
   "execution_count": 3,
   "metadata": {},
   "outputs": [
    {
     "data": {
      "text/html": [
       "<div>\n",
       "<style scoped>\n",
       "    .dataframe tbody tr th:only-of-type {\n",
       "        vertical-align: middle;\n",
       "    }\n",
       "\n",
       "    .dataframe tbody tr th {\n",
       "        vertical-align: top;\n",
       "    }\n",
       "\n",
       "    .dataframe thead th {\n",
       "        text-align: right;\n",
       "    }\n",
       "</style>\n",
       "<table border=\"1\" class=\"dataframe\">\n",
       "  <thead>\n",
       "    <tr style=\"text-align: right;\">\n",
       "      <th></th>\n",
       "      <th>Date</th>\n",
       "      <th>Open</th>\n",
       "      <th>High</th>\n",
       "      <th>Low</th>\n",
       "      <th>Close</th>\n",
       "      <th>Volume</th>\n",
       "      <th>Dividend</th>\n",
       "    </tr>\n",
       "  </thead>\n",
       "  <tbody>\n",
       "    <tr>\n",
       "      <th>0</th>\n",
       "      <td>2016-10-03</td>\n",
       "      <td>82.42</td>\n",
       "      <td>83.1066</td>\n",
       "      <td>82.30</td>\n",
       "      <td>82.86</td>\n",
       "      <td>8155405.0</td>\n",
       "      <td>0.0</td>\n",
       "    </tr>\n",
       "    <tr>\n",
       "      <th>1</th>\n",
       "      <td>2016-10-04</td>\n",
       "      <td>83.28</td>\n",
       "      <td>83.5300</td>\n",
       "      <td>82.58</td>\n",
       "      <td>82.73</td>\n",
       "      <td>5771983.0</td>\n",
       "      <td>0.0</td>\n",
       "    </tr>\n",
       "    <tr>\n",
       "      <th>2</th>\n",
       "      <td>2016-10-05</td>\n",
       "      <td>82.96</td>\n",
       "      <td>83.4500</td>\n",
       "      <td>82.90</td>\n",
       "      <td>83.35</td>\n",
       "      <td>6163375.0</td>\n",
       "      <td>0.0</td>\n",
       "    </tr>\n",
       "    <tr>\n",
       "      <th>3</th>\n",
       "      <td>2016-10-06</td>\n",
       "      <td>83.12</td>\n",
       "      <td>83.4780</td>\n",
       "      <td>82.88</td>\n",
       "      <td>83.36</td>\n",
       "      <td>7687143.0</td>\n",
       "      <td>0.0</td>\n",
       "    </tr>\n",
       "    <tr>\n",
       "      <th>4</th>\n",
       "      <td>2016-10-07</td>\n",
       "      <td>83.49</td>\n",
       "      <td>83.7000</td>\n",
       "      <td>82.64</td>\n",
       "      <td>82.88</td>\n",
       "      <td>8219576.0</td>\n",
       "      <td>0.0</td>\n",
       "    </tr>\n",
       "  </tbody>\n",
       "</table>\n",
       "</div>"
      ],
      "text/plain": [
       "         Date   Open     High    Low  Close     Volume  Dividend\n",
       "0  2016-10-03  82.42  83.1066  82.30  82.86  8155405.0       0.0\n",
       "1  2016-10-04  83.28  83.5300  82.58  82.73  5771983.0       0.0\n",
       "2  2016-10-05  82.96  83.4500  82.90  83.35  6163375.0       0.0\n",
       "3  2016-10-06  83.12  83.4780  82.88  83.36  7687143.0       0.0\n",
       "4  2016-10-07  83.49  83.7000  82.64  82.88  8219576.0       0.0"
      ]
     },
     "execution_count": 3,
     "metadata": {},
     "output_type": "execute_result"
    }
   ],
   "source": [
    "# Join 2016 and 2017\n",
    "\n",
    "V_2yr_q4 = pd.concat([V_2016, V_2017], ignore_index=True)\n",
    "V_2yr_q4 = V_2yr_q4.drop(columns=['Unnamed: 0'])\n",
    "V_2yr_q4.to_csv('resources/V_2yr_q4.csv')\n",
    "V_2yr_q4.head()"
   ]
  },
  {
   "cell_type": "code",
   "execution_count": 4,
   "metadata": {},
   "outputs": [
    {
     "name": "stdout",
     "output_type": "stream",
     "text": [
      "Shape:  (63, 1) (63, 1)\n"
     ]
    }
   ],
   "source": [
    "# Reshape for regression test\n",
    "\n",
    "x = V_2017.Open.values.reshape(-1, 1)\n",
    "y = V_2017.Close.values.reshape(-1, 1)\n",
    "\n",
    "print(\"Shape: \", x.shape, y.shape)"
   ]
  },
  {
   "cell_type": "code",
   "execution_count": 5,
   "metadata": {},
   "outputs": [
    {
     "data": {
      "text/plain": [
       "<matplotlib.collections.PathCollection at 0x18cdfff2748>"
      ]
     },
     "execution_count": 5,
     "metadata": {},
     "output_type": "execute_result"
    },
    {
     "data": {
      "image/png": "[encoded data removed]",
      "text/plain": [
       "<Figure size 432x288 with 1 Axes>"
      ]
     },
     "metadata": {
      "needs_background": "light"
     },
     "output_type": "display_data"
    }
   ],
   "source": [
    "# Plot Scatter Graph\n",
    "\n",
    "plt.scatter(x, y)"
   ]
  },
  {
   "cell_type": "code",
   "execution_count": 6,
   "metadata": {},
   "outputs": [
    {
     "data": {
      "text/plain": [
       "LinearRegression(copy_X=True, fit_intercept=True, n_jobs=None,\n",
       "         normalize=False)"
      ]
     },
     "execution_count": 6,
     "metadata": {},
     "output_type": "execute_result"
    }
   ],
   "source": [
    "V_2017_model = LinearRegression()\n",
    "V_2017_model.fit(x, y)"
   ]
  },
  {
   "cell_type": "code",
   "execution_count": 7,
   "metadata": {},
   "outputs": [
    {
     "name": "stdout",
     "output_type": "stream",
     "text": [
      "Weight coefficients:  [[0.90710263]]\n",
      "y-axis intercept:  [10.22949902]\n"
     ]
    }
   ],
   "source": [
    "# Weight coefficient and y-int\n",
    "\n",
    "print('Weight coefficients: ', V_2017_model.coef_)\n",
    "print('y-axis intercept: ', V_2017_model.intercept_)"
   ]
  },
  {
   "cell_type": "code",
   "execution_count": 8,
   "metadata": {},
   "outputs": [
    {
     "name": "stdout",
     "output_type": "stream",
     "text": [
      "Min x Value: [[105.54]]\n",
      "Max x Value: [[114.75]]\n"
     ]
    }
   ],
   "source": [
    "# x and y mins and maxs\n",
    "\n",
    "V_2017_x_min = np.array([[x.min()]])\n",
    "V_2017_x_max = np.array([[x.max()]])\n",
    "print(f\"Min x Value: {V_2017_x_min}\")\n",
    "print(f\"Max x Value: {V_2017_x_max}\")\n",
    "\n",
    "V_2017_y_min = V_2017_model.predict(V_2017_x_min)\n",
    "V_2017_y_max = V_2017_model.predict(V_2017_x_max)"
   ]
  },
  {
   "cell_type": "code",
   "execution_count": 9,
   "metadata": {},
   "outputs": [
    {
     "data": {
      "image/png": "[encoded data removed]",
      "text/plain": [
       "<Figure size 432x288 with 1 Axes>"
      ]
     },
     "metadata": {
      "needs_background": "light"
     },
     "output_type": "display_data"
    }
   ],
   "source": [
    "# Show Linear Regression\n",
    "\n",
    "plt.scatter(x, y, c='blue')\n",
    "plt.plot([V_2017_x_min[0], V_2017_x_max[0]], [V_2017_x_min[0], V_2017_x_max[0]], c='red')\n",
    "plt.savefig('V_q4_regression.png')"
   ]
  },
  {
   "cell_type": "code",
   "execution_count": 10,
   "metadata": {},
   "outputs": [
    {
     "data": {
      "text/plain": [
       "0.840768070522841"
      ]
     },
     "execution_count": 10,
     "metadata": {},
     "output_type": "execute_result"
    }
   ],
   "source": [
    "V_2017_model.score(x, y)"
   ]
  },
  {
   "cell_type": "code",
   "execution_count": 11,
   "metadata": {},
   "outputs": [
    {
     "data": {
      "text/plain": [
       "<matplotlib.collections.PathCollection at 0x18ce0377da0>"
      ]
     },
     "execution_count": 11,
     "metadata": {},
     "output_type": "execute_result"
    },
    {
     "data": {
      "image/png": "[encoded data removed]",
      "text/plain": [
       "<Figure size 432x288 with 1 Axes>"
      ]
     },
     "metadata": {
      "needs_background": "light"
     },
     "output_type": "display_data"
    }
   ],
   "source": [
    "predictions = V_2017_model.predict(x)\n",
    "plt.scatter(y, predictions)"
   ]
  },
  {
   "cell_type": "code",
   "execution_count": null,
   "metadata": {},
   "outputs": [],
   "source": []
  }
 ],
 "metadata": {
  "kernelspec": {
   "display_name": "Python 3",
   "language": "python",
   "name": "python3"
  },
  "language_info": {
   "codemirror_mode": {
    "name": "ipython",
    "version": 3
   },
   "file_extension": ".py",
   "mimetype": "text/x-python",
   "name": "python",
   "nbconvert_exporter": "python",
   "pygments_lexer": "ipython3",
   "version": "3.7.0"
  }
 },
 "nbformat": 4,
 "nbformat_minor": 2
}
