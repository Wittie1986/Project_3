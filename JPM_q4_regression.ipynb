{
 "cells": [
  {
   "cell_type": "code",
   "execution_count": 1,
   "metadata": {},
   "outputs": [],
   "source": [
    "# Import Dependencies\n",
    "\n",
    "import csv\n",
    "import pandas as pd\n",
    "import numpy as np\n",
    "import matplotlib.pyplot as plt\n",
    "from sklearn.linear_model import LinearRegression\n",
    "from sklearn.datasets import make_regression"
   ]
  },
  {
   "cell_type": "code",
   "execution_count": 2,
   "metadata": {},
   "outputs": [],
   "source": [
    "# Import and read csv's\n",
    "\n",
    "JPM_2016 = pd.read_csv('resources/JPM_q4_2016.csv')\n",
    "JPM_2017 = pd.read_csv('resources/JPM_q4_2017.csv')\n",
    "JPM_2018 = pd.read_csv('resources/JPM_q4_2018.csv')"
   ]
  },
  {
   "cell_type": "code",
   "execution_count": 3,
   "metadata": {},
   "outputs": [
    {
     "data": {
      "text/html": [
       "<div>\n",
       "<style scoped>\n",
       "    .dataframe tbody tr th:only-of-type {\n",
       "        vertical-align: middle;\n",
       "    }\n",
       "\n",
       "    .dataframe tbody tr th {\n",
       "        vertical-align: top;\n",
       "    }\n",
       "\n",
       "    .dataframe thead th {\n",
       "        text-align: right;\n",
       "    }\n",
       "</style>\n",
       "<table border=\"1\" class=\"dataframe\">\n",
       "  <thead>\n",
       "    <tr style=\"text-align: right;\">\n",
       "      <th></th>\n",
       "      <th>Date</th>\n",
       "      <th>Open</th>\n",
       "      <th>High</th>\n",
       "      <th>Low</th>\n",
       "      <th>Close</th>\n",
       "      <th>Volume</th>\n",
       "      <th>Dividend</th>\n",
       "    </tr>\n",
       "  </thead>\n",
       "  <tbody>\n",
       "    <tr>\n",
       "      <th>0</th>\n",
       "      <td>2016-10-03</td>\n",
       "      <td>66.35</td>\n",
       "      <td>66.92</td>\n",
       "      <td>66.26</td>\n",
       "      <td>66.51</td>\n",
       "      <td>14898676.0</td>\n",
       "      <td>0.00</td>\n",
       "    </tr>\n",
       "    <tr>\n",
       "      <th>1</th>\n",
       "      <td>2016-10-04</td>\n",
       "      <td>66.21</td>\n",
       "      <td>67.18</td>\n",
       "      <td>66.10</td>\n",
       "      <td>66.60</td>\n",
       "      <td>17226890.0</td>\n",
       "      <td>0.48</td>\n",
       "    </tr>\n",
       "    <tr>\n",
       "      <th>2</th>\n",
       "      <td>2016-10-05</td>\n",
       "      <td>66.89</td>\n",
       "      <td>68.07</td>\n",
       "      <td>66.80</td>\n",
       "      <td>67.69</td>\n",
       "      <td>16279971.0</td>\n",
       "      <td>0.00</td>\n",
       "    </tr>\n",
       "    <tr>\n",
       "      <th>3</th>\n",
       "      <td>2016-10-06</td>\n",
       "      <td>67.73</td>\n",
       "      <td>67.97</td>\n",
       "      <td>67.05</td>\n",
       "      <td>67.87</td>\n",
       "      <td>17483910.0</td>\n",
       "      <td>0.00</td>\n",
       "    </tr>\n",
       "    <tr>\n",
       "      <th>4</th>\n",
       "      <td>2016-10-07</td>\n",
       "      <td>67.79</td>\n",
       "      <td>68.18</td>\n",
       "      <td>67.40</td>\n",
       "      <td>68.11</td>\n",
       "      <td>18496219.0</td>\n",
       "      <td>0.00</td>\n",
       "    </tr>\n",
       "  </tbody>\n",
       "</table>\n",
       "</div>"
      ],
      "text/plain": [
       "         Date   Open   High    Low  Close      Volume  Dividend\n",
       "0  2016-10-03  66.35  66.92  66.26  66.51  14898676.0      0.00\n",
       "1  2016-10-04  66.21  67.18  66.10  66.60  17226890.0      0.48\n",
       "2  2016-10-05  66.89  68.07  66.80  67.69  16279971.0      0.00\n",
       "3  2016-10-06  67.73  67.97  67.05  67.87  17483910.0      0.00\n",
       "4  2016-10-07  67.79  68.18  67.40  68.11  18496219.0      0.00"
      ]
     },
     "execution_count": 3,
     "metadata": {},
     "output_type": "execute_result"
    }
   ],
   "source": [
    "# Join 2016 and 2017\n",
    "\n",
    "JPM_2yr_q4 = pd.concat([JPM_2016, JPM_2017], ignore_index=True)\n",
    "JPM_2yr_q4 = JPM_2yr_q4.drop(columns=['Unnamed: 0'])\n",
    "JPM_2yr_q4.to_csv('resources/JPM_2yr_q4.csv')\n",
    "JPM_2yr_q4.head()"
   ]
  },
  {
   "cell_type": "code",
   "execution_count": 4,
   "metadata": {},
   "outputs": [
    {
     "name": "stdout",
     "output_type": "stream",
     "text": [
      "Shape:  (63, 1) (63, 1)\n"
     ]
    }
   ],
   "source": [
    "# Reshape for regression test\n",
    "\n",
    "x = JPM_2017.Open.values.reshape(-1, 1)\n",
    "y = JPM_2017.Close.values.reshape(-1, 1)\n",
    "\n",
    "print(\"Shape: \", x.shape, y.shape)"
   ]
  },
  {
   "cell_type": "code",
   "execution_count": 5,
   "metadata": {},
   "outputs": [
    {
     "data": {
      "text/plain": [
       "<matplotlib.collections.PathCollection at 0x2a7d00b2780>"
      ]
     },
     "execution_count": 5,
     "metadata": {},
     "output_type": "execute_result"
    },
    {
     "data": {
      "image/png": "[encoded data removed]",
      "text/plain": [
       "<Figure size 432x288 with 1 Axes>"
      ]
     },
     "metadata": {
      "needs_background": "light"
     },
     "output_type": "display_data"
    }
   ],
   "source": [
    "# Plot Scatter Graph\n",
    "\n",
    "plt.scatter(x, y)"
   ]
  },
  {
   "cell_type": "code",
   "execution_count": 6,
   "metadata": {},
   "outputs": [
    {
     "data": {
      "text/plain": [
       "LinearRegression(copy_X=True, fit_intercept=True, n_jobs=None,\n",
       "         normalize=False)"
      ]
     },
     "execution_count": 6,
     "metadata": {},
     "output_type": "execute_result"
    }
   ],
   "source": [
    "JPM_2017_model = LinearRegression()\n",
    "JPM_2017_model.fit(x, y)"
   ]
  },
  {
   "cell_type": "code",
   "execution_count": 7,
   "metadata": {},
   "outputs": [
    {
     "name": "stdout",
     "output_type": "stream",
     "text": [
      "Weight coefficients:  [[0.93090776]]\n",
      "y-axis intercept:  [7.03088882]\n"
     ]
    }
   ],
   "source": [
    "# Weight coefficient and y-int\n",
    "\n",
    "print('Weight coefficients: ', JPM_2017_model.coef_)\n",
    "print('y-axis intercept: ', JPM_2017_model.intercept_)"
   ]
  },
  {
   "cell_type": "code",
   "execution_count": 8,
   "metadata": {},
   "outputs": [
    {
     "name": "stdout",
     "output_type": "stream",
     "text": [
      "Min x Value: [[95.48]]\n",
      "Max x Value: [[108.13]]\n"
     ]
    }
   ],
   "source": [
    "# x and y mins and maxs\n",
    "\n",
    "JPM_2017_x_min = np.array([[x.min()]])\n",
    "JPM_2017_x_max = np.array([[x.max()]])\n",
    "print(f\"Min x Value: {JPM_2017_x_min}\")\n",
    "print(f\"Max x Value: {JPM_2017_x_max}\")\n",
    "\n",
    "JPM_2017_y_min = JPM_2017_model.predict(JPM_2017_x_min)\n",
    "JPM_2017_y_max = JPM_2017_model.predict(JPM_2017_x_max)"
   ]
  },
  {
   "cell_type": "code",
   "execution_count": 9,
   "metadata": {},
   "outputs": [
    {
     "data": {
      "image/png": "[encoded data removed]",
      "text/plain": [
       "<Figure size 432x288 with 1 Axes>"
      ]
     },
     "metadata": {
      "needs_background": "light"
     },
     "output_type": "display_data"
    }
   ],
   "source": [
    "# Show Linear Regression\n",
    "\n",
    "plt.scatter(x, y, c='blue')\n",
    "plt.plot([JPM_2017_x_min[0], JPM_2017_x_max[0]], [JPM_2017_x_min[0], JPM_2017_x_max[0]], c='red')\n",
    "plt.savefig('JPM_q4_regression.png')"
   ]
  },
  {
   "cell_type": "code",
   "execution_count": 10,
   "metadata": {},
   "outputs": [
    {
     "data": {
      "text/plain": [
       "0.9528454450767256"
      ]
     },
     "execution_count": 10,
     "metadata": {},
     "output_type": "execute_result"
    }
   ],
   "source": [
    "JPM_2017_model.score(x, y)"
   ]
  },
  {
   "cell_type": "code",
   "execution_count": 11,
   "metadata": {},
   "outputs": [
    {
     "data": {
      "text/plain": [
       "<matplotlib.collections.PathCollection at 0x2a7d0454780>"
      ]
     },
     "execution_count": 11,
     "metadata": {},
     "output_type": "execute_result"
    },
    {
     "data": {
      "image/png": "[encoded data removed]",
      "text/plain": [
       "<Figure size 432x288 with 1 Axes>"
      ]
     },
     "metadata": {
      "needs_background": "light"
     },
     "output_type": "display_data"
    }
   ],
   "source": [
    "predictions = JPM_2017_model.predict(x)\n",
    "plt.scatter(y, predictions)"
   ]
  },
  {
   "cell_type": "code",
   "execution_count": null,
   "metadata": {},
   "outputs": [],
   "source": []
  }
 ],
 "metadata": {
  "kernelspec": {
   "display_name": "Python 3",
   "language": "python",
   "name": "python3"
  },
  "language_info": {
   "codemirror_mode": {
    "name": "ipython",
    "version": 3
   },
   "file_extension": ".py",
   "mimetype": "text/x-python",
   "name": "python",
   "nbconvert_exporter": "python",
   "pygments_lexer": "ipython3",
   "version": "3.7.0"
  }
 },
 "nbformat": 4,
 "nbformat_minor": 2
}
