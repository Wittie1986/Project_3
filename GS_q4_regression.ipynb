{
 "cells": [
  {
   "cell_type": "code",
   "execution_count": 1,
   "metadata": {},
   "outputs": [],
   "source": [
    "# Import Dependencies\n",
    "\n",
    "import csv\n",
    "import pandas as pd\n",
    "import numpy as np\n",
    "import matplotlib.pyplot as plt\n",
    "from sklearn.linear_model import LinearRegression\n",
    "from sklearn.datasets import make_regression"
   ]
  },
  {
   "cell_type": "code",
   "execution_count": 2,
   "metadata": {},
   "outputs": [],
   "source": [
    "# Import and read csv's\n",
    "\n",
    "GS_2016 = pd.read_csv('resources/GS_q4_2016.csv')\n",
    "GS_2017 = pd.read_csv('resources/GS_q4_2017.csv')\n",
    "GS_2018 = pd.read_csv('resources/GS_q4_2018.csv')"
   ]
  },
  {
   "cell_type": "code",
   "execution_count": 3,
   "metadata": {},
   "outputs": [
    {
     "data": {
      "text/html": [
       "<div>\n",
       "<style scoped>\n",
       "    .dataframe tbody tr th:only-of-type {\n",
       "        vertical-align: middle;\n",
       "    }\n",
       "\n",
       "    .dataframe tbody tr th {\n",
       "        vertical-align: top;\n",
       "    }\n",
       "\n",
       "    .dataframe thead th {\n",
       "        text-align: right;\n",
       "    }\n",
       "</style>\n",
       "<table border=\"1\" class=\"dataframe\">\n",
       "  <thead>\n",
       "    <tr style=\"text-align: right;\">\n",
       "      <th></th>\n",
       "      <th>Date</th>\n",
       "      <th>Open</th>\n",
       "      <th>High</th>\n",
       "      <th>Low</th>\n",
       "      <th>Close</th>\n",
       "      <th>Volume</th>\n",
       "      <th>Dividend</th>\n",
       "    </tr>\n",
       "  </thead>\n",
       "  <tbody>\n",
       "    <tr>\n",
       "      <th>0</th>\n",
       "      <td>2016-10-03</td>\n",
       "      <td>160.50</td>\n",
       "      <td>161.72</td>\n",
       "      <td>160.250</td>\n",
       "      <td>161.07</td>\n",
       "      <td>2444718.0</td>\n",
       "      <td>0.0</td>\n",
       "    </tr>\n",
       "    <tr>\n",
       "      <th>1</th>\n",
       "      <td>2016-10-04</td>\n",
       "      <td>161.24</td>\n",
       "      <td>164.15</td>\n",
       "      <td>161.230</td>\n",
       "      <td>162.27</td>\n",
       "      <td>2469912.0</td>\n",
       "      <td>0.0</td>\n",
       "    </tr>\n",
       "    <tr>\n",
       "      <th>2</th>\n",
       "      <td>2016-10-05</td>\n",
       "      <td>163.32</td>\n",
       "      <td>166.57</td>\n",
       "      <td>163.005</td>\n",
       "      <td>166.40</td>\n",
       "      <td>2548215.0</td>\n",
       "      <td>0.0</td>\n",
       "    </tr>\n",
       "    <tr>\n",
       "      <th>3</th>\n",
       "      <td>2016-10-06</td>\n",
       "      <td>167.18</td>\n",
       "      <td>167.29</td>\n",
       "      <td>164.820</td>\n",
       "      <td>167.15</td>\n",
       "      <td>2858217.0</td>\n",
       "      <td>0.0</td>\n",
       "    </tr>\n",
       "    <tr>\n",
       "      <th>4</th>\n",
       "      <td>2016-10-07</td>\n",
       "      <td>167.50</td>\n",
       "      <td>169.98</td>\n",
       "      <td>166.240</td>\n",
       "      <td>169.83</td>\n",
       "      <td>3390232.0</td>\n",
       "      <td>0.0</td>\n",
       "    </tr>\n",
       "  </tbody>\n",
       "</table>\n",
       "</div>"
      ],
      "text/plain": [
       "         Date    Open    High      Low   Close     Volume  Dividend\n",
       "0  2016-10-03  160.50  161.72  160.250  161.07  2444718.0       0.0\n",
       "1  2016-10-04  161.24  164.15  161.230  162.27  2469912.0       0.0\n",
       "2  2016-10-05  163.32  166.57  163.005  166.40  2548215.0       0.0\n",
       "3  2016-10-06  167.18  167.29  164.820  167.15  2858217.0       0.0\n",
       "4  2016-10-07  167.50  169.98  166.240  169.83  3390232.0       0.0"
      ]
     },
     "execution_count": 3,
     "metadata": {},
     "output_type": "execute_result"
    }
   ],
   "source": [
    "# Join 2016 and 2017\n",
    "\n",
    "GS_2yr_q4 = pd.concat([GS_2016, GS_2017], ignore_index=True)\n",
    "GS_2yr_q4 = GS_2yr_q4.drop(columns=['Unnamed: 0'])\n",
    "GS_2yr_q4.to_csv('resources/GS_2yr_q4.csv')\n",
    "GS_2yr_q4.head()"
   ]
  },
  {
   "cell_type": "code",
   "execution_count": 4,
   "metadata": {},
   "outputs": [
    {
     "name": "stdout",
     "output_type": "stream",
     "text": [
      "Shape:  (126, 1) (126, 1)\n"
     ]
    },
    {
     "data": {
      "text/plain": [
       "array([[161.07],\n",
       "       [162.27],\n",
       "       [166.4 ],\n",
       "       [167.15],\n",
       "       [169.83],\n",
       "       [171.04],\n",
       "       [169.04],\n",
       "       [169.3 ],\n",
       "       [167.42],\n",
       "       [170.52],\n",
       "       [169.  ],\n",
       "       [172.63],\n",
       "       [174.51],\n",
       "       [174.51],\n",
       "       [174.67],\n",
       "       [175.12],\n",
       "       [175.55],\n",
       "       [177.07],\n",
       "       [177.75],\n",
       "       [177.14],\n",
       "       [178.24],\n",
       "       [178.06],\n",
       "       [176.58],\n",
       "       [176.21],\n",
       "       [175.92],\n",
       "       [181.48],\n",
       "       [181.92],\n",
       "       [192.63],\n",
       "       [200.87],\n",
       "       [203.94],\n",
       "       [209.18],\n",
       "       [211.19],\n",
       "       [206.26],\n",
       "       [209.63],\n",
       "       [210.35],\n",
       "       [211.08],\n",
       "       [211.11],\n",
       "       [212.31],\n",
       "       [211.38],\n",
       "       [210.35],\n",
       "       [211.75],\n",
       "       [219.29],\n",
       "       [226.63],\n",
       "       [223.36],\n",
       "       [228.55],\n",
       "       [231.38],\n",
       "       [235.56],\n",
       "       [241.45],\n",
       "       [241.85],\n",
       "       [237.17],\n",
       "       [238.55],\n",
       "       [239.93],\n",
       "       [243.  ],\n",
       "       [238.9 ],\n",
       "       [239.07],\n",
       "       [243.09],\n",
       "       [241.44],\n",
       "       [240.12],\n",
       "       [240.97],\n",
       "       [241.56],\n",
       "       [240.65],\n",
       "       [238.18],\n",
       "       [239.45],\n",
       "       [240.65],\n",
       "       [241.62],\n",
       "       [240.31],\n",
       "       [246.06],\n",
       "       [246.02],\n",
       "       [242.8 ],\n",
       "       [242.6 ],\n",
       "       [242.4 ],\n",
       "       [239.8 ],\n",
       "       [238.53],\n",
       "       [242.41],\n",
       "       [236.09],\n",
       "       [242.03],\n",
       "       [239.99],\n",
       "       [244.73],\n",
       "       [242.13],\n",
       "       [244.84],\n",
       "       [241.74],\n",
       "       [241.72],\n",
       "       [241.71],\n",
       "       [240.89],\n",
       "       [242.48],\n",
       "       [244.26],\n",
       "       [246.88],\n",
       "       [244.4 ],\n",
       "       [243.49],\n",
       "       [239.81],\n",
       "       [241.25],\n",
       "       [240.79],\n",
       "       [240.15],\n",
       "       [240.27],\n",
       "       [237.24],\n",
       "       [237.61],\n",
       "       [239.37],\n",
       "       [238.02],\n",
       "       [238.13],\n",
       "       [238.02],\n",
       "       [236.43],\n",
       "       [235.95],\n",
       "       [235.11],\n",
       "       [239.41],\n",
       "       [241.36],\n",
       "       [247.64],\n",
       "       [248.95],\n",
       "       [250.65],\n",
       "       [248.33],\n",
       "       [245.95],\n",
       "       [248.56],\n",
       "       [250.35],\n",
       "       [250.13],\n",
       "       [257.68],\n",
       "       [255.56],\n",
       "       [255.48],\n",
       "       [257.17],\n",
       "       [260.02],\n",
       "       [256.48],\n",
       "       [255.18],\n",
       "       [261.01],\n",
       "       [258.97],\n",
       "       [257.72],\n",
       "       [255.95],\n",
       "       [256.5 ],\n",
       "       [254.76]])"
      ]
     },
     "execution_count": 4,
     "metadata": {},
     "output_type": "execute_result"
    }
   ],
   "source": [
    "# Reshape for regression test\n",
    "\n",
    "x = GS_2yr_q4.Close.values.reshape(-1, 1)\n",
    "y = GS_2yr_q4.Open.values.reshape(-1, 1)\n",
    "\n",
    "print(\"Shape: \", x.shape, y.shape)\n",
    "x"
   ]
  },
  {
   "cell_type": "code",
   "execution_count": 5,
   "metadata": {},
   "outputs": [
    {
     "data": {
      "text/plain": [
       "<matplotlib.collections.PathCollection at 0x2a9e5d65dd8>"
      ]
     },
     "execution_count": 5,
     "metadata": {},
     "output_type": "execute_result"
    },
    {
     "data": {
      "image/png": "[encoded data removed]",
      "text/plain": [
       "<Figure size 432x288 with 1 Axes>"
      ]
     },
     "metadata": {
      "needs_background": "light"
     },
     "output_type": "display_data"
    }
   ],
   "source": [
    "# Plot Scatter Graph\n",
    "\n",
    "plt.scatter(x, y)"
   ]
  },
  {
   "cell_type": "code",
   "execution_count": 6,
   "metadata": {},
   "outputs": [
    {
     "data": {
      "text/plain": [
       "LinearRegression(copy_X=True, fit_intercept=True, n_jobs=None,\n",
       "         normalize=False)"
      ]
     },
     "execution_count": 6,
     "metadata": {},
     "output_type": "execute_result"
    }
   ],
   "source": [
    "# Fit data to model\n",
    "\n",
    "GS_2yr_model = LinearRegression()\n",
    "GS_2yr_model.fit(x, y)"
   ]
  },
  {
   "cell_type": "code",
   "execution_count": 7,
   "metadata": {},
   "outputs": [
    {
     "name": "stdout",
     "output_type": "stream",
     "text": [
      "Weight coefficients:  [[1.01065842]]\n",
      "y-axis intercept:  [-2.84482813]\n"
     ]
    }
   ],
   "source": [
    "# Weight coefficient and y-int\n",
    "\n",
    "print('Weight coefficients: ', GS_2yr_model.coef_)\n",
    "print('y-axis intercept: ', GS_2yr_model.intercept_)"
   ]
  },
  {
   "cell_type": "code",
   "execution_count": 8,
   "metadata": {},
   "outputs": [
    {
     "name": "stdout",
     "output_type": "stream",
     "text": [
      "Min x Value: [[161.07]]\n",
      "Max x Value: [[261.01]]\n"
     ]
    }
   ],
   "source": [
    "# x and y mins and maxs\n",
    "\n",
    "GS_2yr_model_x_min = np.array([[x.min()]])\n",
    "GS_2yr_model_x_max = np.array([[x.max()]])\n",
    "print(f\"Min x Value: {GS_2yr_model_x_min}\")\n",
    "print(f\"Max x Value: {GS_2yr_model_x_max}\")\n",
    "\n",
    "GS_2yr_model_y_min = GS_2yr_model.predict(GS_2yr_model_x_min)\n",
    "GS_2yr_model_y_max = GS_2yr_model.predict(GS_2yr_model_x_max)"
   ]
  },
  {
   "cell_type": "code",
   "execution_count": 1,
   "metadata": {
    "scrolled": true
   },
   "outputs": [
    {
     "ename": "NameError",
     "evalue": "name 'plt' is not defined",
     "output_type": "error",
     "traceback": [
      "\u001b[1;31m---------------------------------------------------------------------------\u001b[0m",
      "\u001b[1;31mNameError\u001b[0m                                 Traceback (most recent call last)",
      "\u001b[1;32m<ipython-input-1-a1c096c3ca2d>\u001b[0m in \u001b[0;36m<module>\u001b[1;34m\u001b[0m\n\u001b[0;32m      1\u001b[0m \u001b[1;31m# Show Linear Regression\u001b[0m\u001b[1;33m\u001b[0m\u001b[1;33m\u001b[0m\u001b[1;33m\u001b[0m\u001b[0m\n\u001b[0;32m      2\u001b[0m \u001b[1;33m\u001b[0m\u001b[0m\n\u001b[1;32m----> 3\u001b[1;33m \u001b[0mplt\u001b[0m\u001b[1;33m.\u001b[0m\u001b[0mscatter\u001b[0m\u001b[1;33m(\u001b[0m\u001b[0mx\u001b[0m\u001b[1;33m,\u001b[0m \u001b[0my\u001b[0m\u001b[1;33m,\u001b[0m \u001b[0mc\u001b[0m\u001b[1;33m=\u001b[0m\u001b[1;34m'blue'\u001b[0m\u001b[1;33m)\u001b[0m\u001b[1;33m\u001b[0m\u001b[1;33m\u001b[0m\u001b[0m\n\u001b[0m\u001b[0;32m      4\u001b[0m \u001b[0mplt\u001b[0m\u001b[1;33m.\u001b[0m\u001b[0mplot\u001b[0m\u001b[1;33m(\u001b[0m\u001b[1;33m[\u001b[0m\u001b[0mGS_2yr_model_x_min\u001b[0m\u001b[1;33m[\u001b[0m\u001b[1;36m0\u001b[0m\u001b[1;33m]\u001b[0m\u001b[1;33m,\u001b[0m \u001b[0mGS_2yr_model_x_max\u001b[0m\u001b[1;33m[\u001b[0m\u001b[1;36m0\u001b[0m\u001b[1;33m]\u001b[0m\u001b[1;33m]\u001b[0m\u001b[1;33m,\u001b[0m \u001b[1;33m[\u001b[0m\u001b[0mGS_2yr_model_x_min\u001b[0m\u001b[1;33m[\u001b[0m\u001b[1;36m0\u001b[0m\u001b[1;33m]\u001b[0m\u001b[1;33m,\u001b[0m \u001b[0mGS_2yr_model_x_max\u001b[0m\u001b[1;33m[\u001b[0m\u001b[1;36m0\u001b[0m\u001b[1;33m]\u001b[0m\u001b[1;33m]\u001b[0m\u001b[1;33m,\u001b[0m \u001b[0mc\u001b[0m\u001b[1;33m=\u001b[0m\u001b[1;34m'red'\u001b[0m\u001b[1;33m)\u001b[0m\u001b[1;33m\u001b[0m\u001b[1;33m\u001b[0m\u001b[0m\n\u001b[0;32m      5\u001b[0m \u001b[0mplt\u001b[0m\u001b[1;33m.\u001b[0m\u001b[0msavefig\u001b[0m\u001b[1;33m(\u001b[0m\u001b[1;34m'GS_q4_regression.png'\u001b[0m\u001b[1;33m)\u001b[0m\u001b[1;33m\u001b[0m\u001b[1;33m\u001b[0m\u001b[0m\n",
      "\u001b[1;31mNameError\u001b[0m: name 'plt' is not defined"
     ]
    }
   ],
   "source": [
    "# Show Linear Regression\n",
    "\n",
    "plt.scatter(x, y, c='blue')\n",
    "plt.plot([GS_2yr_model_x_min[0], GS_2yr_model_x_max[0]], [GS_2yr_model_x_min[0], GS_2yr_model_x_max[0]], c='red')\n",
    "plt.savefig('GS_q4_regression.png')"
   ]
  },
  {
   "cell_type": "code",
   "execution_count": 10,
   "metadata": {},
   "outputs": [
    {
     "data": {
      "text/plain": [
       "0.9928145060256937"
      ]
     },
     "execution_count": 10,
     "metadata": {},
     "output_type": "execute_result"
    }
   ],
   "source": [
    "GS_2yr_model.score(x, y)"
   ]
  },
  {
   "cell_type": "code",
   "execution_count": 11,
   "metadata": {},
   "outputs": [
    {
     "data": {
      "text/plain": [
       "<matplotlib.collections.PathCollection at 0x2a9e5e79358>"
      ]
     },
     "execution_count": 11,
     "metadata": {},
     "output_type": "execute_result"
    },
    {
     "data": {
      "image/png": "[encoded data removed]",
      "text/plain": [
       "<Figure size 432x288 with 1 Axes>"
      ]
     },
     "metadata": {
      "needs_background": "light"
     },
     "output_type": "display_data"
    }
   ],
   "source": [
    "predictions = GS_2yr_model.predict(x)\n",
    "plt.scatter(y, predictions)"
   ]
  },
  {
   "cell_type": "code",
   "execution_count": 13,
   "metadata": {},
   "outputs": [
    {
     "name": "stdout",
     "output_type": "stream",
     "text": [
      "Shape:  (63, 1) (63, 1)\n"
     ]
    },
    {
     "data": {
      "text/plain": [
       "<matplotlib.collections.PathCollection at 0x2a9e5ece9b0>"
      ]
     },
     "execution_count": 13,
     "metadata": {},
     "output_type": "execute_result"
    },
    {
     "data": {
      "image/png": "[encoded data removed]",
      "text/plain": [
       "<Figure size 432x288 with 1 Axes>"
      ]
     },
     "metadata": {
      "needs_background": "light"
     },
     "output_type": "display_data"
    }
   ],
   "source": [
    "# Now Test predictions against 2018\n",
    "\n",
    "x1 = GS_2018.Open.values.reshape(-1, 1)\n",
    "y1 = GS_2018.Close.values.reshape(-1, 1)\n",
    "\n",
    "print(\"Shape: \", x1.shape, y1.shape)\n",
    "\n",
    "# Create scatter plot for 2018\n",
    "\n",
    "plt.scatter(x1, y1)"
   ]
  },
  {
   "cell_type": "code",
   "execution_count": null,
   "metadata": {},
   "outputs": [],
   "source": []
  }
 ],
 "metadata": {
  "kernelspec": {
   "display_name": "Python 3",
   "language": "python",
   "name": "python3"
  },
  "language_info": {
   "codemirror_mode": {
    "name": "ipython",
    "version": 3
   },
   "file_extension": ".py",
   "mimetype": "text/x-python",
   "name": "python",
   "nbconvert_exporter": "python",
   "pygments_lexer": "ipython3",
   "version": "3.7.0"
  }
 },
 "nbformat": 4,
 "nbformat_minor": 2
}
