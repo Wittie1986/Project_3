{
 "cells": [
  {
   "cell_type": "code",
   "execution_count": 7,
   "metadata": {},
   "outputs": [],
   "source": [
    "# Import Dependencies\n",
    "import csv\n",
    "import pandas as pd\n",
    "import os\n",
    "\n",
    "# Import CSV's\n",
    "\n",
    "GS_raw = pd.read_csv('resources/EOD-GS.csv')\n",
    "JPM_raw = pd.read_csv('resources/EOD-JPM.csv')\n",
    "V_raw = pd.read_csv('resources/EOD-V.csv')"
   ]
  },
  {
   "cell_type": "code",
   "execution_count": 8,
   "metadata": {},
   "outputs": [],
   "source": [
    "# Extract only the dates between 2015-01-01 and 2017-12-31\n",
    "\n",
    "start_date_nn = '2014-01-01'\n",
    "end_date_nn = '2019-05-07'\n",
    "\n",
    "GS_raw['Date'] = pd.to_datetime(GS_raw['Date'])\n",
    "JPM_raw['Date'] = pd.to_datetime(JPM_raw['Date'])\n",
    "V_raw['Date'] = pd.to_datetime(V_raw['Date'])\n",
    "\n",
    "\n",
    "GS_mask_nn = (GS_raw['Date'] >= start_date_nn) & (GS_raw['Date'] <= end_date_nn)\n",
    "JPM_mask_nn = (JPM_raw['Date'] >= start_date_nn) & (JPM_raw['Date'] <= end_date_nn)\n",
    "V_mask_nn = (V_raw['Date'] >= start_date_nn) & (V_raw['Date'] <= end_date_nn)\n",
    "\n",
    "GS_nn_df = GS_raw.loc[GS_mask_nn]\n",
    "JPM_nn_df = JPM_raw.loc[JPM_mask_nn]\n",
    "V_nn_df= V_raw.loc[V_mask_nn]\n",
    "\n",
    "\n",
    "# Drop unwanted columns\n",
    "\n",
    "GS_nn_df = GS_nn_df.drop(columns=['Adj_Open', 'Adj_High', 'Adj_Low', 'Adj_Close', 'Adj_Volume', 'Split'])\n",
    "JPM_nn_df = JPM_nn_df.drop(columns=['Adj_Open', 'Adj_High', 'Adj_Low', 'Adj_Close', 'Adj_Volume', 'Split'])\n",
    "V_nn_df = V_nn_df.drop(columns=['Adj_Open', 'Adj_High', 'Adj_Low', 'Adj_Close', 'Adj_Volume', 'Split'])\n",
    "\n",
    "# Sort columns chronologically, reset index\n",
    "\n",
    "GS_nn_df = GS_nn_df.sort_values(by='Date', ascending=True)\n",
    "JPM_nn_df = JPM_nn_df.sort_values(by='Date', ascending=True)\n",
    "V_nn_df = V_nn_df.sort_values(by='Date', ascending=True)"
   ]
  },
  {
   "cell_type": "code",
   "execution_count": 9,
   "metadata": {},
   "outputs": [],
   "source": [
    "# Export to csv\n",
    "\n",
    "GS_nn_df.to_csv('resources/GS_nn_df.csv')\n",
    "JPM_nn_df.to_csv('resources/JPM_nn_df.csv')\n",
    "V_nn_df.to_csv('resources/V_nn_df.csv')"
   ]
  },
  {
   "cell_type": "code",
   "execution_count": null,
   "metadata": {},
   "outputs": [],
   "source": []
  }
 ],
 "metadata": {
  "kernelspec": {
   "display_name": "Python 3",
   "language": "python",
   "name": "python3"
  },
  "language_info": {
   "codemirror_mode": {
    "name": "ipython",
    "version": 3
   },
   "file_extension": ".py",
   "mimetype": "text/x-python",
   "name": "python",
   "nbconvert_exporter": "python",
   "pygments_lexer": "ipython3",
   "version": "3.7.1"
  }
 },
 "nbformat": 4,
 "nbformat_minor": 2
}
